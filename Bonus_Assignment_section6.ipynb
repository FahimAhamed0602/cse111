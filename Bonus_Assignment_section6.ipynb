{
  "nbformat": 4,
  "nbformat_minor": 0,
  "metadata": {
    "colab": {
      "private_outputs": true,
      "provenance": [],
      "authorship_tag": "ABX9TyP5Ns9Hx55SUWjY34WobUWx",
      "include_colab_link": true
    },
    "kernelspec": {
      "name": "python3",
      "display_name": "Python 3"
    },
    "language_info": {
      "name": "python"
    }
  },
  "cells": [
    {
      "cell_type": "markdown",
      "metadata": {
        "id": "view-in-github",
        "colab_type": "text"
      },
      "source": [
        "<a href=\"https://colab.research.google.com/github/FahimAhamed0602/cse111/blob/main/Bonus_Assignment_section6.ipynb\" target=\"_parent\"><img src=\"https://colab.research.google.com/assets/colab-badge.svg\" alt=\"Open In Colab\"/></a>"
      ]
    },
    {
      "cell_type": "code",
      "execution_count": null,
      "metadata": {
        "id": "lP5tzja_NKRX"
      },
      "outputs": [],
      "source": [
        "\n",
        "def parse_grammar():\n",
        "    grammar = {}\n",
        "    num_rules = int(input(\"How many production rules? \"))\n",
        "    for _ in range(num_rules):\n",
        "        line = input(\"Enter production rule: \")\n",
        "        var, prods = line.split(':')\n",
        "        grammar[var] = prods.split('|')\n",
        "    return grammar\n",
        "\n",
        "def CYK(string, grammar):\n",
        "    n = len(string)\n",
        "\n",
        "    table = [[set() for _ in range(n - i)] for i in range(n)]\n",
        "    for i, char in enumerate(string):\n",
        "        for var, prods in grammar.items():\n",
        "            if char in prods:\n",
        "                table[i][0].add(var)\n",
        "    for length in range(2, n + 1):\n",
        "        for start in range(n - length + 1):\n",
        "            for split in range(1, length):\n",
        "                for var, prods in grammar.items():\n",
        "                    for prod in prods:\n",
        "                        if len(prod) == 2:\n",
        "                            if prod[0] in table[start][split - 1] and prod[1] in table[start + split][length - split - 1]:\n",
        "                                table[start][length - 1].add(var)\n",
        "\n",
        "    return 'S' in table[0][n - 1]\n",
        "\n",
        "def main():\n",
        "    grammar = parse_grammar()\n",
        "    test_string = input(\"Enter the string to be parsed: \")\n",
        "    result = CYK(test_string, grammar)\n",
        "    print(f\"The string '{test_string}' can be derived from the grammar: {result}\")\n",
        "main()\n"
      ]
    }
  ]
}